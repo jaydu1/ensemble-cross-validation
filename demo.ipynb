{
 "cells": [
  {
   "cell_type": "code",
   "execution_count": 1,
   "metadata": {},
   "outputs": [],
   "source": [
    "import numpy as np\n",
    "from sklearn_ensemble_cv import Ensemble, comp_empirical_ecv, cross_validation_ecv, make_grid"
   ]
  },
  {
   "cell_type": "markdown",
   "metadata": {},
   "source": [
    "We make up some fake data for illustration."
   ]
  },
  {
   "cell_type": "code",
   "execution_count": 2,
   "metadata": {},
   "outputs": [],
   "source": [
    "from sklearn.datasets import make_regression\n",
    "from sklearn.model_selection import train_test_split\n",
    "\n",
    "X, y = make_regression(n_samples=300, n_features=100,\n",
    "                       n_informative=10, n_targets=1,\n",
    "                       random_state=0, shuffle=False)\n",
    "\n",
    "X_train, X_test, y_train, y_test = train_test_split(X, y, test_size=0.33, random_state=42)"
   ]
  },
  {
   "cell_type": "markdown",
   "metadata": {},
   "source": [
    "# The Ensemble class\n",
    "\n",
    "For users who want to have more control of the ensemble predictor, this section introduces lower-level class and object that we use to implement the cross-validation methods.\n",
    "For users who just want to use easy interface functions, you can safely skip this section.\n",
    "\n",
    "We provide `Ensemble` a class for ensemble predictor, whose base class is `sklearn.ensemble.BaggingRegressor`.\n",
    "This means that the usage of `Ensemble` is basically the same as the latter, except the new class includes several new member functions that we will illustrate below.\n",
    "\n"
   ]
  },
  {
   "cell_type": "markdown",
   "metadata": {},
   "source": [
    "## Initialize an object\n",
    "\n",
    "The initialization of `Ensemble` class is the same as `sklearn.ensemble.BaggingRegressor`, where \n",
    "\n",
    "1. The base estimator object, whose hyperparameter `kwargs_regr` is specified when it is initialized. In the following example, we use decision tree as the base estimator. \n",
    "2. The hyperparameters for building an ensemble, such as `n_estimators`, `max_samples`, `max_features`, and etc."
   ]
  },
  {
   "cell_type": "code",
   "execution_count": 3,
   "metadata": {},
   "outputs": [],
   "source": [
    "from sklearn.tree import DecisionTreeRegressor\n",
    "kwargs_regr = {'max_depth': 7}\n",
    "kwargs_ensemble = {'max_samples': 0.8}\n",
    "regr = Ensemble(estimator=DecisionTreeRegressor(**kwargs_regr), n_estimators=100, **kwargs_ensemble)"
   ]
  },
  {
   "cell_type": "markdown",
   "metadata": {},
   "source": [
    "After the ensemble object `regr` is initialized, we can fit the data and get the prediction:"
   ]
  },
  {
   "cell_type": "code",
   "execution_count": 4,
   "metadata": {},
   "outputs": [
    {
     "data": {
      "text/plain": [
       "array([  70.23396371, -182.58138254, -101.18383671,  -56.21812489,\n",
       "        -24.1509203 ,  -80.55427682,  -26.05180353,  -29.27014189,\n",
       "        -13.13677842,   39.3139393 ,   35.62489681, -137.78556102,\n",
       "        225.63794764,   78.18069272,  125.18230402,   57.8630433 ,\n",
       "        -82.00688554, -104.13571476,  -32.47847558,   16.05660559,\n",
       "         -7.99815216, -100.9500727 ,   49.26143715,   93.78488146,\n",
       "         31.51940601,  -41.87014185,  138.63315023,  -46.69257716,\n",
       "         59.64942528,  -18.00586823, -113.2085673 ,   74.66305842,\n",
       "       -132.15682473,   38.27447023,  -74.97420797,   98.25988659,\n",
       "        -44.57687795,   57.70456432,  141.42654703,   56.16192447,\n",
       "        115.99054251,  170.12096277,  -19.9368687 ,   77.27520233,\n",
       "         46.96778833,  -56.60430355,  152.59543006,   70.32912719,\n",
       "       -156.148454  ,   -7.19352637,   64.79158232, -180.54656167,\n",
       "         53.45175638,   46.08532312,  158.77208672, -139.98518844,\n",
       "         65.99980672,   97.54784702,  -74.99989171,  -19.741565  ,\n",
       "         84.33739473,  -65.20653518,  -18.93319112,   -6.30034483,\n",
       "         32.33262473,  149.97799027,  -37.31950096,  110.5271797 ,\n",
       "        104.95305929,  166.69011206,  -41.79180283, -171.54370147,\n",
       "       -140.93509253,   14.51339663,   12.52313321,   78.5944537 ,\n",
       "         55.90527473,  -82.75756177,   79.96830806,  -15.73967377,\n",
       "        -19.62753964,   53.95116683, -145.68614032,   11.48865009,\n",
       "       -125.70067121,  -32.73789911,  -61.7768888 ,   65.71135857,\n",
       "        -41.18903352,  131.78755999,  190.0595796 ,   96.49203513,\n",
       "        -23.8991573 ,   29.33891057,   66.45923831,  -40.23631036,\n",
       "        -48.17217978,  -65.72644073,   14.95150671])"
      ]
     },
     "execution_count": 4,
     "metadata": {},
     "output_type": "execute_result"
    }
   ],
   "source": [
    "regr.fit(X_train, y_train)\n",
    "regr.predict(X_test)"
   ]
  },
  {
   "cell_type": "markdown",
   "metadata": {},
   "source": [
    "## Prediction of individual estimators\n",
    "\n",
    "We provide a new function `predict_individual` to obtain prediction values from all estimators in the ensemble.\n",
    "Since we have $n=33$ observations and $M=10$ estimators, the resulting prediction would be of shape $(n,M)=(33,10)$."
   ]
  },
  {
   "cell_type": "code",
   "execution_count": 5,
   "metadata": {},
   "outputs": [
    {
     "data": {
      "text/plain": [
       "(201, 100)"
      ]
     },
     "execution_count": 5,
     "metadata": {},
     "output_type": "execute_result"
    }
   ],
   "source": [
    "Y_train_hat = regr.predict_individual(X_train)\n",
    "Y_train_hat.shape"
   ]
  },
  {
   "cell_type": "markdown",
   "metadata": {},
   "source": [
    "## Compute ECV estimate of the prediction risk"
   ]
  },
  {
   "cell_type": "code",
   "execution_count": 6,
   "metadata": {},
   "outputs": [
    {
     "data": {
      "text/html": [
       "<div>\n",
       "<style scoped>\n",
       "    .dataframe tbody tr th:only-of-type {\n",
       "        vertical-align: middle;\n",
       "    }\n",
       "\n",
       "    .dataframe tbody tr th {\n",
       "        vertical-align: top;\n",
       "    }\n",
       "\n",
       "    .dataframe thead th {\n",
       "        text-align: right;\n",
       "    }\n",
       "</style>\n",
       "<table border=\"1\" class=\"dataframe\">\n",
       "  <thead>\n",
       "    <tr style=\"text-align: right;\">\n",
       "      <th></th>\n",
       "      <th>M</th>\n",
       "      <th>estimate</th>\n",
       "    </tr>\n",
       "  </thead>\n",
       "  <tbody>\n",
       "    <tr>\n",
       "      <th>0</th>\n",
       "      <td>1</td>\n",
       "      <td>53096.499188</td>\n",
       "    </tr>\n",
       "    <tr>\n",
       "      <th>1</th>\n",
       "      <td>2</td>\n",
       "      <td>34601.479982</td>\n",
       "    </tr>\n",
       "    <tr>\n",
       "      <th>2</th>\n",
       "      <td>3</td>\n",
       "      <td>28436.473580</td>\n",
       "    </tr>\n",
       "    <tr>\n",
       "      <th>3</th>\n",
       "      <td>4</td>\n",
       "      <td>25353.970379</td>\n",
       "    </tr>\n",
       "    <tr>\n",
       "      <th>4</th>\n",
       "      <td>5</td>\n",
       "      <td>23504.468459</td>\n",
       "    </tr>\n",
       "    <tr>\n",
       "      <th>...</th>\n",
       "      <td>...</td>\n",
       "      <td>...</td>\n",
       "    </tr>\n",
       "    <tr>\n",
       "      <th>95</th>\n",
       "      <td>96</td>\n",
       "      <td>16491.773677</td>\n",
       "    </tr>\n",
       "    <tr>\n",
       "      <th>96</th>\n",
       "      <td>97</td>\n",
       "      <td>16487.801379</td>\n",
       "    </tr>\n",
       "    <tr>\n",
       "      <th>97</th>\n",
       "      <td>98</td>\n",
       "      <td>16483.910148</td>\n",
       "    </tr>\n",
       "    <tr>\n",
       "      <th>98</th>\n",
       "      <td>99</td>\n",
       "      <td>16480.097528</td>\n",
       "    </tr>\n",
       "    <tr>\n",
       "      <th>99</th>\n",
       "      <td>100</td>\n",
       "      <td>16476.361161</td>\n",
       "    </tr>\n",
       "  </tbody>\n",
       "</table>\n",
       "<p>100 rows × 2 columns</p>\n",
       "</div>"
      ],
      "text/plain": [
       "      M      estimate\n",
       "0     1  53096.499188\n",
       "1     2  34601.479982\n",
       "2     3  28436.473580\n",
       "3     4  25353.970379\n",
       "4     5  23504.468459\n",
       "..  ...           ...\n",
       "95   96  16491.773677\n",
       "96   97  16487.801379\n",
       "97   98  16483.910148\n",
       "98   99  16480.097528\n",
       "99  100  16476.361161\n",
       "\n",
       "[100 rows x 2 columns]"
      ]
     },
     "execution_count": 6,
     "metadata": {},
     "output_type": "execute_result"
    }
   ],
   "source": [
    "df_est = regr.compute_ecv_estimate(X_train, y_train, M0=20, return_df=True)\n",
    "df_est"
   ]
  },
  {
   "cell_type": "markdown",
   "metadata": {},
   "source": [
    "We can also compute the test error on the test set:"
   ]
  },
  {
   "cell_type": "code",
   "execution_count": 7,
   "metadata": {},
   "outputs": [
    {
     "data": {
      "text/html": [
       "<div>\n",
       "<style scoped>\n",
       "    .dataframe tbody tr th:only-of-type {\n",
       "        vertical-align: middle;\n",
       "    }\n",
       "\n",
       "    .dataframe tbody tr th {\n",
       "        vertical-align: top;\n",
       "    }\n",
       "\n",
       "    .dataframe thead th {\n",
       "        text-align: right;\n",
       "    }\n",
       "</style>\n",
       "<table border=\"1\" class=\"dataframe\">\n",
       "  <thead>\n",
       "    <tr style=\"text-align: right;\">\n",
       "      <th></th>\n",
       "      <th>M</th>\n",
       "      <th>risk</th>\n",
       "    </tr>\n",
       "  </thead>\n",
       "  <tbody>\n",
       "    <tr>\n",
       "      <th>0</th>\n",
       "      <td>1</td>\n",
       "      <td>51431.668388</td>\n",
       "    </tr>\n",
       "    <tr>\n",
       "      <th>1</th>\n",
       "      <td>2</td>\n",
       "      <td>39123.869850</td>\n",
       "    </tr>\n",
       "    <tr>\n",
       "      <th>2</th>\n",
       "      <td>3</td>\n",
       "      <td>32440.606480</td>\n",
       "    </tr>\n",
       "    <tr>\n",
       "      <th>3</th>\n",
       "      <td>4</td>\n",
       "      <td>29950.753833</td>\n",
       "    </tr>\n",
       "    <tr>\n",
       "      <th>4</th>\n",
       "      <td>5</td>\n",
       "      <td>25533.965993</td>\n",
       "    </tr>\n",
       "    <tr>\n",
       "      <th>...</th>\n",
       "      <td>...</td>\n",
       "      <td>...</td>\n",
       "    </tr>\n",
       "    <tr>\n",
       "      <th>95</th>\n",
       "      <td>96</td>\n",
       "      <td>21063.038771</td>\n",
       "    </tr>\n",
       "    <tr>\n",
       "      <th>96</th>\n",
       "      <td>97</td>\n",
       "      <td>21090.903436</td>\n",
       "    </tr>\n",
       "    <tr>\n",
       "      <th>97</th>\n",
       "      <td>98</td>\n",
       "      <td>21161.999616</td>\n",
       "    </tr>\n",
       "    <tr>\n",
       "      <th>98</th>\n",
       "      <td>99</td>\n",
       "      <td>21101.676215</td>\n",
       "    </tr>\n",
       "    <tr>\n",
       "      <th>99</th>\n",
       "      <td>100</td>\n",
       "      <td>21107.119926</td>\n",
       "    </tr>\n",
       "  </tbody>\n",
       "</table>\n",
       "<p>100 rows × 2 columns</p>\n",
       "</div>"
      ],
      "text/plain": [
       "      M          risk\n",
       "0     1  51431.668388\n",
       "1     2  39123.869850\n",
       "2     3  32440.606480\n",
       "3     4  29950.753833\n",
       "4     5  25533.965993\n",
       "..  ...           ...\n",
       "95   96  21063.038771\n",
       "96   97  21090.903436\n",
       "97   98  21161.999616\n",
       "98   99  21101.676215\n",
       "99  100  21107.119926\n",
       "\n",
       "[100 rows x 2 columns]"
      ]
     },
     "execution_count": 7,
     "metadata": {},
     "output_type": "execute_result"
    }
   ],
   "source": [
    "df_risk = regr.compute_risk(X_test, y_test, return_df=True)\n",
    "df_risk"
   ]
  },
  {
   "cell_type": "code",
   "execution_count": 8,
   "metadata": {},
   "outputs": [
    {
     "data": {
      "image/png": "[encoded data removed]",
      "text/plain": [
       "<Figure size 640x480 with 1 Axes>"
      ]
     },
     "metadata": {},
     "output_type": "display_data"
    }
   ],
   "source": [
    "import matplotlib.pyplot as plt\n",
    "plt.plot(df_est['M'], df_est['estimate'], label='estimate')\n",
    "plt.plot(df_risk['M'], df_risk['risk'], label='risk')\n",
    "plt.legend()\n",
    "plt.show()"
   ]
  },
  {
   "cell_type": "markdown",
   "metadata": {},
   "source": [
    "We can also get a risk estimate beyond $M=100$, which gives us a sense how much improvement one can get if we further increase the ensemble size."
   ]
  },
  {
   "cell_type": "code",
   "execution_count": 9,
   "metadata": {},
   "outputs": [
    {
     "data": {
      "text/html": [
       "<div>\n",
       "<style scoped>\n",
       "    .dataframe tbody tr th:only-of-type {\n",
       "        vertical-align: middle;\n",
       "    }\n",
       "\n",
       "    .dataframe tbody tr th {\n",
       "        vertical-align: top;\n",
       "    }\n",
       "\n",
       "    .dataframe thead th {\n",
       "        text-align: right;\n",
       "    }\n",
       "</style>\n",
       "<table border=\"1\" class=\"dataframe\">\n",
       "  <thead>\n",
       "    <tr style=\"text-align: right;\">\n",
       "      <th></th>\n",
       "      <th>M</th>\n",
       "      <th>estimate</th>\n",
       "    </tr>\n",
       "  </thead>\n",
       "  <tbody>\n",
       "    <tr>\n",
       "      <th>0</th>\n",
       "      <td>1</td>\n",
       "      <td>53096.499188</td>\n",
       "    </tr>\n",
       "    <tr>\n",
       "      <th>1</th>\n",
       "      <td>2</td>\n",
       "      <td>34601.479982</td>\n",
       "    </tr>\n",
       "    <tr>\n",
       "      <th>2</th>\n",
       "      <td>3</td>\n",
       "      <td>28436.473580</td>\n",
       "    </tr>\n",
       "    <tr>\n",
       "      <th>3</th>\n",
       "      <td>4</td>\n",
       "      <td>25353.970379</td>\n",
       "    </tr>\n",
       "    <tr>\n",
       "      <th>4</th>\n",
       "      <td>5</td>\n",
       "      <td>23504.468459</td>\n",
       "    </tr>\n",
       "    <tr>\n",
       "      <th>...</th>\n",
       "      <td>...</td>\n",
       "      <td>...</td>\n",
       "    </tr>\n",
       "    <tr>\n",
       "      <th>995</th>\n",
       "      <td>996</td>\n",
       "      <td>16143.599369</td>\n",
       "    </tr>\n",
       "    <tr>\n",
       "      <th>996</th>\n",
       "      <td>997</td>\n",
       "      <td>16143.562119</td>\n",
       "    </tr>\n",
       "    <tr>\n",
       "      <th>997</th>\n",
       "      <td>998</td>\n",
       "      <td>16143.524943</td>\n",
       "    </tr>\n",
       "    <tr>\n",
       "      <th>998</th>\n",
       "      <td>999</td>\n",
       "      <td>16143.487842</td>\n",
       "    </tr>\n",
       "    <tr>\n",
       "      <th>999</th>\n",
       "      <td>1000</td>\n",
       "      <td>16143.450815</td>\n",
       "    </tr>\n",
       "  </tbody>\n",
       "</table>\n",
       "<p>1000 rows × 2 columns</p>\n",
       "</div>"
      ],
      "text/plain": [
       "        M      estimate\n",
       "0       1  53096.499188\n",
       "1       2  34601.479982\n",
       "2       3  28436.473580\n",
       "3       4  25353.970379\n",
       "4       5  23504.468459\n",
       "..    ...           ...\n",
       "995   996  16143.599369\n",
       "996   997  16143.562119\n",
       "997   998  16143.524943\n",
       "998   999  16143.487842\n",
       "999  1000  16143.450815\n",
       "\n",
       "[1000 rows x 2 columns]"
      ]
     },
     "execution_count": 9,
     "metadata": {},
     "output_type": "execute_result"
    }
   ],
   "source": [
    "df_est = regr.compute_ecv_estimate(X_train, y_train, M_test=1000, M0=20, return_df=True)\n",
    "df_est"
   ]
  },
  {
   "cell_type": "markdown",
   "metadata": {},
   "source": [
    "# ECV estimate for one configuration of ensemble predictors\n",
    "\n",
    "\n",
    "The function `comp_empirical_ecv` provides an easy way to fit and get risk estimate from ECV.\n",
    "Similar to the previous section, one need to provide\n",
    "1. Data: `X_train, y_train`.\n",
    "2. A regressor class and the parameters to initialize it: `DecisionTreeRegressor, kwargs_regr=kwargs_regr`.\n",
    "3. The parameters for building the ensemble (with `M` denoting `n_estimators`): `kwargs_ensemble=kwargs_ensemble, M=100`.\n",
    "4. Extra optional parameters for ECV.\n",
    "\n",
    "The function returns two objects:\n",
    "1. An ensemble predictor (an object of `Ensemble`)\n",
    "2. A np.array or pd.DataFrame object, containing the risk estimates given by ECV."
   ]
  },
  {
   "cell_type": "code",
   "execution_count": 10,
   "metadata": {},
   "outputs": [],
   "source": [
    "from sklearn.tree import DecisionTreeRegressor\n",
    "kwargs_regr = {'max_depth': 7}\n",
    "kwargs_ensemble = {'max_samples': 0.8}\n",
    "regr, risk_ecv = comp_empirical_ecv(X_train, y_train, DecisionTreeRegressor, kwargs_regr=kwargs_regr,\n",
    "                   kwargs_ensemble=kwargs_ensemble, M=100)"
   ]
  },
  {
   "cell_type": "markdown",
   "metadata": {},
   "source": [
    "One can also pass kwargs `X_val=X_test, Y_val=y_test` to get the actual test errors."
   ]
  },
  {
   "cell_type": "markdown",
   "metadata": {},
   "source": [
    "# ECV for tuning hyperparameters"
   ]
  },
  {
   "cell_type": "markdown",
   "metadata": {},
   "source": [
    "For tuning hyperparameters, such as `max_samples` and `max_features` for the ensemble predictors, and `max_depth` and `min_samples_leaf` for all base predictors, we can make a grid of tuning hyperparameters as follows:"
   ]
  },
  {
   "cell_type": "code",
   "execution_count": 11,
   "metadata": {},
   "outputs": [],
   "source": [
    "from sklearn_ensemble_cv.utils import make_grid\n",
    "grid = make_grid({\n",
    "    'max_samples':[0.6,0.7],\n",
    "    'max_depth':np.array([6,7], dtype=int),\n",
    "    })"
   ]
  },
  {
   "cell_type": "code",
   "execution_count": 12,
   "metadata": {},
   "outputs": [],
   "source": [
    "\n",
    "res_ecv, info_ecv = cross_validation_ecv(X_train, y_train, grid, \n",
    "                     DecisionTreeRegressor, kwargs_regr={},\n",
    "                     M=100, kwargs_ensemble={}, return_df=True\n",
    "                     )"
   ]
  },
  {
   "cell_type": "code",
   "execution_count": 13,
   "metadata": {},
   "outputs": [
    {
     "data": {
      "text/html": [
       "<div>\n",
       "<style scoped>\n",
       "    .dataframe tbody tr th:only-of-type {\n",
       "        vertical-align: middle;\n",
       "    }\n",
       "\n",
       "    .dataframe tbody tr th {\n",
       "        vertical-align: top;\n",
       "    }\n",
       "\n",
       "    .dataframe thead th {\n",
       "        text-align: right;\n",
       "    }\n",
       "</style>\n",
       "<table border=\"1\" class=\"dataframe\">\n",
       "  <thead>\n",
       "    <tr style=\"text-align: right;\">\n",
       "      <th></th>\n",
       "      <th>max_samples</th>\n",
       "      <th>max_depth</th>\n",
       "      <th>risk_ecv1</th>\n",
       "      <th>risk_ecv2</th>\n",
       "      <th>risk_ecv3</th>\n",
       "      <th>risk_ecv4</th>\n",
       "      <th>risk_ecv5</th>\n",
       "      <th>risk_ecv6</th>\n",
       "      <th>risk_ecv7</th>\n",
       "      <th>risk_ecv8</th>\n",
       "      <th>...</th>\n",
       "      <th>risk_ecv91</th>\n",
       "      <th>risk_ecv92</th>\n",
       "      <th>risk_ecv93</th>\n",
       "      <th>risk_ecv94</th>\n",
       "      <th>risk_ecv95</th>\n",
       "      <th>risk_ecv96</th>\n",
       "      <th>risk_ecv97</th>\n",
       "      <th>risk_ecv98</th>\n",
       "      <th>risk_ecv99</th>\n",
       "      <th>risk_ecv100</th>\n",
       "    </tr>\n",
       "  </thead>\n",
       "  <tbody>\n",
       "    <tr>\n",
       "      <th>0</th>\n",
       "      <td>0.6</td>\n",
       "      <td>6</td>\n",
       "      <td>52507.916966</td>\n",
       "      <td>35931.238209</td>\n",
       "      <td>30405.678623</td>\n",
       "      <td>27642.898830</td>\n",
       "      <td>25985.230954</td>\n",
       "      <td>24880.119037</td>\n",
       "      <td>24090.753382</td>\n",
       "      <td>23498.729140</td>\n",
       "      <td>...</td>\n",
       "      <td>19718.882061</td>\n",
       "      <td>19714.922032</td>\n",
       "      <td>19711.047166</td>\n",
       "      <td>19707.254743</td>\n",
       "      <td>19703.542161</td>\n",
       "      <td>19699.906925</td>\n",
       "      <td>19696.346642</td>\n",
       "      <td>19692.859017</td>\n",
       "      <td>19689.441850</td>\n",
       "      <td>19686.093026</td>\n",
       "    </tr>\n",
       "    <tr>\n",
       "      <th>1</th>\n",
       "      <td>0.6</td>\n",
       "      <td>7</td>\n",
       "      <td>53476.652171</td>\n",
       "      <td>36363.174209</td>\n",
       "      <td>30658.681555</td>\n",
       "      <td>27806.435228</td>\n",
       "      <td>26095.087431</td>\n",
       "      <td>24954.188900</td>\n",
       "      <td>24139.261378</td>\n",
       "      <td>23528.065737</td>\n",
       "      <td>...</td>\n",
       "      <td>19625.816641</td>\n",
       "      <td>19621.728376</td>\n",
       "      <td>19617.728030</td>\n",
       "      <td>19613.812799</td>\n",
       "      <td>19609.979993</td>\n",
       "      <td>19606.227037</td>\n",
       "      <td>19602.551462</td>\n",
       "      <td>19598.950899</td>\n",
       "      <td>19595.423074</td>\n",
       "      <td>19591.965806</td>\n",
       "    </tr>\n",
       "    <tr>\n",
       "      <th>2</th>\n",
       "      <td>0.7</td>\n",
       "      <td>6</td>\n",
       "      <td>50480.383672</td>\n",
       "      <td>34607.104402</td>\n",
       "      <td>29316.011312</td>\n",
       "      <td>26670.464767</td>\n",
       "      <td>25083.136840</td>\n",
       "      <td>24024.918222</td>\n",
       "      <td>23269.047781</td>\n",
       "      <td>22702.144950</td>\n",
       "      <td>...</td>\n",
       "      <td>19082.688413</td>\n",
       "      <td>19078.896421</td>\n",
       "      <td>19075.185977</td>\n",
       "      <td>19071.554478</td>\n",
       "      <td>19067.999433</td>\n",
       "      <td>19064.518450</td>\n",
       "      <td>19061.109241</td>\n",
       "      <td>19057.769607</td>\n",
       "      <td>19054.497441</td>\n",
       "      <td>19051.290718</td>\n",
       "    </tr>\n",
       "    <tr>\n",
       "      <th>3</th>\n",
       "      <td>0.7</td>\n",
       "      <td>7</td>\n",
       "      <td>51692.828705</td>\n",
       "      <td>35132.686526</td>\n",
       "      <td>29612.639133</td>\n",
       "      <td>26852.615436</td>\n",
       "      <td>25196.601218</td>\n",
       "      <td>24092.591739</td>\n",
       "      <td>23304.013540</td>\n",
       "      <td>22712.579891</td>\n",
       "      <td>...</td>\n",
       "      <td>18936.503515</td>\n",
       "      <td>18932.547437</td>\n",
       "      <td>18928.676436</td>\n",
       "      <td>18924.887797</td>\n",
       "      <td>18921.178919</td>\n",
       "      <td>18917.547308</td>\n",
       "      <td>18913.990577</td>\n",
       "      <td>18910.506432</td>\n",
       "      <td>18907.092673</td>\n",
       "      <td>18903.747190</td>\n",
       "    </tr>\n",
       "  </tbody>\n",
       "</table>\n",
       "<p>4 rows × 102 columns</p>\n",
       "</div>"
      ],
      "text/plain": [
       "   max_samples  max_depth     risk_ecv1     risk_ecv2     risk_ecv3  \\\n",
       "0          0.6          6  52507.916966  35931.238209  30405.678623   \n",
       "1          0.6          7  53476.652171  36363.174209  30658.681555   \n",
       "2          0.7          6  50480.383672  34607.104402  29316.011312   \n",
       "3          0.7          7  51692.828705  35132.686526  29612.639133   \n",
       "\n",
       "      risk_ecv4     risk_ecv5     risk_ecv6     risk_ecv7     risk_ecv8  ...  \\\n",
       "0  27642.898830  25985.230954  24880.119037  24090.753382  23498.729140  ...   \n",
       "1  27806.435228  26095.087431  24954.188900  24139.261378  23528.065737  ...   \n",
       "2  26670.464767  25083.136840  24024.918222  23269.047781  22702.144950  ...   \n",
       "3  26852.615436  25196.601218  24092.591739  23304.013540  22712.579891  ...   \n",
       "\n",
       "     risk_ecv91    risk_ecv92    risk_ecv93    risk_ecv94    risk_ecv95  \\\n",
       "0  19718.882061  19714.922032  19711.047166  19707.254743  19703.542161   \n",
       "1  19625.816641  19621.728376  19617.728030  19613.812799  19609.979993   \n",
       "2  19082.688413  19078.896421  19075.185977  19071.554478  19067.999433   \n",
       "3  18936.503515  18932.547437  18928.676436  18924.887797  18921.178919   \n",
       "\n",
       "     risk_ecv96    risk_ecv97    risk_ecv98    risk_ecv99   risk_ecv100  \n",
       "0  19699.906925  19696.346642  19692.859017  19689.441850  19686.093026  \n",
       "1  19606.227037  19602.551462  19598.950899  19595.423074  19591.965806  \n",
       "2  19064.518450  19061.109241  19057.769607  19054.497441  19051.290718  \n",
       "3  18917.547308  18913.990577  18910.506432  18907.092673  18903.747190  \n",
       "\n",
       "[4 rows x 102 columns]"
      ]
     },
     "execution_count": 13,
     "metadata": {},
     "output_type": "execute_result"
    }
   ],
   "source": [
    "res_ecv"
   ]
  },
  {
   "cell_type": "code",
   "execution_count": 14,
   "metadata": {},
   "outputs": [
    {
     "data": {
      "text/plain": [
       "{'delta': 0.0,\n",
       " 'best_params': {'max_samples': 0.7, 'max_depth': 7.0},\n",
       " 'best_n_estimators': inf,\n",
       " 'M_max': inf}"
      ]
     },
     "execution_count": 14,
     "metadata": {},
     "output_type": "execute_result"
    }
   ],
   "source": [
    "info_ecv"
   ]
  }
 ],
 "metadata": {
  "kernelspec": {
   "display_name": "base",
   "language": "python",
   "name": "python3"
  },
  "language_info": {
   "codemirror_mode": {
    "name": "ipython",
    "version": 3
   },
   "file_extension": ".py",
   "mimetype": "text/x-python",
   "name": "python",
   "nbconvert_exporter": "python",
   "pygments_lexer": "ipython3",
   "version": "3.10.12"
  }
 },
 "nbformat": 4,
 "nbformat_minor": 2
}
