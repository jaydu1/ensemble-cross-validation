{
 "cells": [
  {
   "cell_type": "code",
   "execution_count": 1,
   "metadata": {},
   "outputs": [],
   "source": [
    "import sys\n",
    "sys.path.append('..')\n",
    "\n",
    "import numpy as np\n",
    "from sklearn_ensemble_cv import reset_random_seeds\n",
    "import matplotlib.pyplot as plt\n",
    "\n",
    "reset_random_seeds(0)"
   ]
  },
  {
   "cell_type": "markdown",
   "metadata": {},
   "source": [
    "We make up some fake data for illustration. Below, the response is of dimension 2."
   ]
  },
  {
   "cell_type": "code",
   "execution_count": 2,
   "metadata": {},
   "outputs": [],
   "source": [
    "from sklearn.datasets import make_regression\n",
    "from sklearn.model_selection import train_test_split\n",
    "\n",
    "X, y = make_regression(n_samples=300, n_features=200,\n",
    "                       n_informative=5, n_targets=2,\n",
    "                       random_state=0, shuffle=False)\n",
    "\n",
    "X_train, X_test, y_train, y_test = train_test_split(X, y, test_size=0.5, random_state=42)"
   ]
  },
  {
   "cell_type": "markdown",
   "metadata": {},
   "source": [
    "# The Ensemble class\n",
    "\n",
    "For users who want to have more control of the ensemble predictor, this section introduces lower-level class and object that we use to implement the cross-validation methods.\n",
    "For users who just want to use easy interface functions, you can safely skip this section.\n",
    "\n",
    "We provide `Ensemble` a class for ensemble predictor, whose base class is `sklearn.ensemble.BaggingRegressor`.\n",
    "This means that the usage of `Ensemble` is basically the same as the latter, except the new class includes several new member functions that we will illustrate below.\n",
    "\n"
   ]
  },
  {
   "cell_type": "markdown",
   "metadata": {},
   "source": [
    "## Initialize an object\n",
    "\n",
    "The initialization of `Ensemble` class is the same as `sklearn.ensemble.BaggingRegressor`, where \n",
    "\n",
    "1. The base estimator object, whose hyperparameter `kwargs_regr` is specified when it is initialized. In the following example, we use decision tree as the base estimator. \n",
    "2. The hyperparameters for building an ensemble, such as `n_estimators`, `max_samples`, `max_features`, and etc."
   ]
  },
  {
   "cell_type": "code",
   "execution_count": 3,
   "metadata": {},
   "outputs": [],
   "source": [
    "from sklearn.tree import DecisionTreeRegressor\n",
    "from sklearn_ensemble_cv import Ensemble\n",
    "kwargs_regr = {'max_depth': 7}\n",
    "kwargs_ensemble = {'max_samples': 0.8}\n",
    "regr = Ensemble(estimator=DecisionTreeRegressor(**kwargs_regr), n_estimators=100, **kwargs_ensemble)"
   ]
  },
  {
   "cell_type": "markdown",
   "metadata": {},
   "source": [
    "The prediction is of the same dimension as the response. "
   ]
  },
  {
   "cell_type": "code",
   "execution_count": 4,
   "metadata": {},
   "outputs": [
    {
     "data": {
      "text/plain": [
       "(150, 2)"
      ]
     },
     "execution_count": 4,
     "metadata": {},
     "output_type": "execute_result"
    }
   ],
   "source": [
    "regr.fit(X_train, y_train)\n",
    "Y_test_hat = regr.predict(X_test)\n",
    "Y_test_hat.shape"
   ]
  },
  {
   "cell_type": "markdown",
   "metadata": {},
   "source": [
    "We can also get prediction from individual base estimators."
   ]
  },
  {
   "cell_type": "code",
   "execution_count": 5,
   "metadata": {},
   "outputs": [
    {
     "data": {
      "text/plain": [
       "(150, 2, 100)"
      ]
     },
     "execution_count": 5,
     "metadata": {},
     "output_type": "execute_result"
    }
   ],
   "source": [
    "Y_train_hat = regr.predict_individual(X_train)\n",
    "Y_train_hat.shape"
   ]
  },
  {
   "cell_type": "markdown",
   "metadata": {},
   "source": [
    "## Compute ECV estimate of the prediction risk"
   ]
  },
  {
   "cell_type": "markdown",
   "metadata": {},
   "source": [
    "Below, we use function `compute_ecv_estimate` to estimate the prediction risk for various ensemble size $M=1,\\ldots,100$, only using the first $M_0=30$ trees."
   ]
  },
  {
   "cell_type": "code",
   "execution_count": 6,
   "metadata": {},
   "outputs": [],
   "source": [
    "# compute the risk estimate of the ensemble\n",
    "df_est = regr.compute_ecv_estimate(X_train, y_train, M0=30, return_df=True)\n",
    "# compute the risk of the ensemble on the test set\n",
    "df_risk = regr.compute_risk(X_test, y_test, return_df=True)"
   ]
  },
  {
   "cell_type": "code",
   "execution_count": 7,
   "metadata": {},
   "outputs": [
    {
     "data": {
      "image/png": "[encoded data removed]",
      "text/plain": [
       "<Figure size 640x480 with 1 Axes>"
      ]
     },
     "metadata": {},
     "output_type": "display_data"
    }
   ],
   "source": [
    "plt.plot(df_est['M'], df_est['estimate'], label='estimate')\n",
    "plt.plot(df_risk['M'], df_risk['risk'], label='risk')\n",
    "plt.legend()\n",
    "plt.show()"
   ]
  },
  {
   "cell_type": "markdown",
   "metadata": {},
   "source": [
    "# ECV for tuning hyperparameters"
   ]
  },
  {
   "cell_type": "markdown",
   "metadata": {},
   "source": [
    "For tuning hyperparameters, such as `max_samples` and `max_features` for the ensemble predictors, and `max_depth` and `min_samples_leaf` for all base predictors, we can make two grids of these two types of tuning hyperparameters respectively.\n",
    "\n",
    "We recommend using `np.array` for each parameter, and make sure to use the correct dtypes that `sklearn` accept.\n",
    "If one want to set some hyperparameter to a fix value, simply provide it in the grid as either a scalar or a list/array with length one."
   ]
  },
  {
   "cell_type": "code",
   "execution_count": 8,
   "metadata": {},
   "outputs": [],
   "source": [
    "from sklearn_ensemble_cv import ECV\n",
    "\n",
    "# Hyperparameters for the base regressor\n",
    "grid_regr = {    \n",
    "    'max_depth':np.array([6,7], dtype=int), \n",
    "    }\n",
    "# Hyperparameters for the ensemble\n",
    "grid_ensemble = {\n",
    "    'max_features':np.array([0.9,1.]),\n",
    "    'max_samples':np.array([0.6,0.7]),\n",
    "}\n",
    "\n",
    "res_ecv, info_ecv = ECV(\n",
    "    X_train, y_train, DecisionTreeRegressor, grid_regr, grid_ensemble, \n",
    "    X_test=X_test, Y_test=y_test,\n",
    "    M=50, M0=25, return_df=True\n",
    ")"
   ]
  },
  {
   "cell_type": "code",
   "execution_count": 9,
   "metadata": {},
   "outputs": [
    {
     "data": {
      "text/plain": [
       "{'best_params_regr': {'max_depth': 6},\n",
       " 'best_params_ensemble': {'random_state': 0,\n",
       "  'n_estimators': 50,\n",
       "  'max_features': 1.0,\n",
       "  'max_samples': 0.7},\n",
       " 'best_n_estimators': 50,\n",
       " 'best_params_index': 3,\n",
       " 'best_score': 6118.919276518704,\n",
       " 'delta': 0.0,\n",
       " 'M_max': inf,\n",
       " 'best_n_estimators_extrapolate': inf,\n",
       " 'best_score_extrapolate': 5905.261207161817}"
      ]
     },
     "execution_count": 9,
     "metadata": {},
     "output_type": "execute_result"
    }
   ],
   "source": [
    "info_ecv"
   ]
  },
  {
   "cell_type": "markdown",
   "metadata": {},
   "source": [
    "# SplitCV"
   ]
  },
  {
   "cell_type": "code",
   "execution_count": 10,
   "metadata": {},
   "outputs": [],
   "source": [
    "from sklearn_ensemble_cv import splitCV\n",
    "res_splitcv, info_splitcv = splitCV(\n",
    "        X_train, y_train, DecisionTreeRegressor, grid_regr, grid_ensemble,\n",
    "        M=50, return_df=True, X_test=X_test, Y_test=y_test,\n",
    "        random_state=0, test_size=0.25,\n",
    "        )"
   ]
  },
  {
   "cell_type": "code",
   "execution_count": 11,
   "metadata": {},
   "outputs": [
    {
     "data": {
      "text/plain": [
       "{'best_params_regr': {'max_depth': 6},\n",
       " 'best_params_ensemble': {'random_state': 0,\n",
       "  'n_estimators': 50,\n",
       "  'max_features': 1.0,\n",
       "  'max_samples': 0.6},\n",
       " 'best_n_estimators': 34,\n",
       " 'best_params_index': 2,\n",
       " 'best_score': 5240.007705341309,\n",
       " 'split_params': {'index_train': array([ 61,  92, 112,   2, 141,  43,  10,  60, 116, 144, 119, 108,  69,\n",
       "         135,  56,  80, 123, 133, 106, 146,  50, 147,  85,  30, 101,  94,\n",
       "          64,  89,  91, 125,  48,  13, 111,  95,  20,  15,  52,   3, 149,\n",
       "          98,   6,  68, 109,  96,  12, 102, 120, 104, 128,  46,  11, 110,\n",
       "         124,  41, 148,   1, 113, 139,  42,   4, 129,  17,  38,   5,  53,\n",
       "         143, 105,   0,  34,  28,  55,  75,  35,  23,  74,  31, 118,  57,\n",
       "         131,  65,  32, 138,  14, 122,  19,  29, 130,  49, 136,  99,  82,\n",
       "          79, 115, 145,  72,  77,  25,  81, 140, 142,  39,  58,  88,  70,\n",
       "          87,  36,  21,   9, 103,  67, 117,  47]),\n",
       "  'index_val': array([114,  62,  33, 107,   7, 100,  40,  86,  76,  71, 134,  51,  73,\n",
       "          54,  63,  37,  78,  90,  45,  16, 121,  66,  24,   8, 126,  22,\n",
       "          44,  97,  93,  26, 137,  84,  27, 127, 132,  59,  18,  83]),\n",
       "  'test_size': 0.25,\n",
       "  'random_state': 0}}"
      ]
     },
     "execution_count": 11,
     "metadata": {},
     "output_type": "execute_result"
    }
   ],
   "source": [
    "info_splitcv"
   ]
  },
  {
   "cell_type": "markdown",
   "metadata": {},
   "source": [
    "# KFoldCV"
   ]
  },
  {
   "cell_type": "code",
   "execution_count": 12,
   "metadata": {},
   "outputs": [],
   "source": [
    "from sklearn_ensemble_cv import KFoldCV\n",
    "res_kfoldcv, info_kfoldcv = KFoldCV(\n",
    "        X_train, y_train, DecisionTreeRegressor, grid_regr, grid_ensemble,\n",
    "        M=50, return_df=True, X_test=X_test, Y_test=y_test,\n",
    "        shuffle=True, random_state=0, n_splits=5,\n",
    "        )"
   ]
  },
  {
   "cell_type": "code",
   "execution_count": 13,
   "metadata": {},
   "outputs": [
    {
     "data": {
      "text/plain": [
       "{'best_params_regr': {'max_depth': 7},\n",
       " 'best_params_ensemble': {'random_state': 0,\n",
       "  'n_estimators': 50,\n",
       "  'max_features': 1.0,\n",
       "  'max_samples': 0.7},\n",
       " 'best_n_estimators': 32,\n",
       " 'best_params_index': 7,\n",
       " 'best_score': 6961.841676288075,\n",
       " 'val_score': array([[[23737.87238121, 29972.38292898, 31356.17442943, 28137.92795717,\n",
       "          33225.95690142],\n",
       "         [16257.2078051 , 23280.78635101, 23790.57918381, 21195.09262109,\n",
       "          26667.5296347 ],\n",
       "         [15443.15947895, 23645.62060681, 21857.11289385, 18529.64918437,\n",
       "          21949.76636496],\n",
       "         ...,\n",
       "         [ 8022.52682882, 15733.43605015, 16589.99087989, 14929.25864793,\n",
       "          20015.19364001],\n",
       "         [ 7945.93509948, 15632.59660113, 16495.23397053, 14794.6479552 ,\n",
       "          19927.94929008],\n",
       "         [ 7915.96842979, 15643.03322946, 16439.81330895, 14796.65783126,\n",
       "          19885.90998658]],\n",
       " \n",
       "        [[23302.66632959, 29049.66592015, 31776.90726071, 27450.30056841,\n",
       "          33168.50415102],\n",
       "         [15184.46565991, 22100.01151141, 24503.41364572, 21763.75952369,\n",
       "          27451.89507877],\n",
       "         [12171.5797392 , 20616.77695084, 21067.61643263, 18974.36348243,\n",
       "          24164.8705549 ],\n",
       "         ...,\n",
       "         [ 8197.21142867, 15149.53352639, 16739.71432854, 14219.43214378,\n",
       "          19835.83225159],\n",
       "         [ 8166.79642378, 15176.89376963, 16624.87804628, 14149.50272425,\n",
       "          19915.92425962],\n",
       "         [ 8149.5036682 , 15227.05375997, 16607.93980164, 14126.24938225,\n",
       "          19919.98087   ]],\n",
       " \n",
       "        [[17834.90038988, 18484.86969859, 19725.89938411, 17723.70847693,\n",
       "          22889.15703912],\n",
       "         [11033.04816503, 13442.83009499, 12234.03383196, 12390.75227706,\n",
       "          17467.73887621],\n",
       "         [ 9662.13757626, 12415.0640164 ,  9768.83938898, 12364.94933621,\n",
       "          13849.84179978],\n",
       "         ...,\n",
       "         [ 4948.15723296,  8208.90150095,  7066.70653642,  7240.17268584,\n",
       "          11049.56331849],\n",
       "         [ 5038.41715699,  8226.58057539,  7082.04588906,  7277.07266303,\n",
       "          11117.36763166],\n",
       "         [ 5027.64783628,  8228.56752723,  7112.59920133,  7281.97797639,\n",
       "          11111.85471114]],\n",
       " \n",
       "        ...,\n",
       " \n",
       "        [[23343.15962847, 30094.2223888 , 31753.68469137, 27435.23418406,\n",
       "          33077.52967473],\n",
       "         [15347.28367014, 22969.07426881, 24508.99035727, 21586.54412076,\n",
       "          27011.93736696],\n",
       "         [12308.61746216, 20815.60569921, 21351.77178592, 19266.77843285,\n",
       "          22926.13318632],\n",
       "         ...,\n",
       "         [ 8274.30934485, 16046.8080021 , 16882.40966063, 14218.04867085,\n",
       "          20035.99548761],\n",
       "         [ 8211.2296571 , 16050.72064698, 16788.57001224, 14138.42516719,\n",
       "          20105.58005279],\n",
       "         [ 8181.69145244, 16103.78172656, 16762.7850498 , 14125.86724149,\n",
       "          20102.37096216]],\n",
       " \n",
       "        [[17785.79070148, 18423.3444308 , 19801.30884607, 17863.589176  ,\n",
       "          23356.98476974],\n",
       "         [10488.14306894, 13432.64737473, 12443.06071001, 12018.45321479,\n",
       "          17721.79386454],\n",
       "         [ 9091.7984133 , 12415.5270367 ,  9680.46657946, 11226.90356785,\n",
       "          15078.14700844],\n",
       "         ...,\n",
       "         [ 4803.68593927,  8166.66358048,  7160.54451287,  6998.1261387 ,\n",
       "          11049.5055115 ],\n",
       "         [ 4912.21603099,  8199.13855482,  7167.90876605,  7054.51899049,\n",
       "          11123.79452391],\n",
       "         [ 4902.18466618,  8194.20041064,  7190.81692836,  7063.96557469,\n",
       "          11130.81310689]],\n",
       " \n",
       "        [[16612.10337243, 16844.92151582, 18563.80786054, 17101.40349172,\n",
       "          21061.39086277],\n",
       "         [10612.16538355, 12338.29372206, 12181.21510555, 11644.65965874,\n",
       "          15471.99341264],\n",
       "         [ 9449.66128944, 11157.58843759,  9840.97284127,  9470.77148106,\n",
       "          12998.74467869],\n",
       "         ...,\n",
       "         [ 4609.57965452,  7404.22445543,  6900.88721173,  6127.88179131,\n",
       "          10454.4383407 ],\n",
       "         [ 4669.037748  ,  7392.75622217,  6873.68592277,  6149.26781745,\n",
       "          10560.5583152 ],\n",
       "         [ 4682.71350579,  7406.42154103,  6869.88905811,  6159.69357508,\n",
       "          10580.64698805]]]),\n",
       " 'test_score': array([[[31630.14844276, 30906.49053698, 31605.86830503, 30041.6287974 ,\n",
       "          29420.79513795],\n",
       "         [23896.31963081, 23503.50969449, 23875.13305269, 23454.10473721,\n",
       "          22872.32084252],\n",
       "         [21350.21283931, 21451.76502828, 20724.81372371, 21205.76943425,\n",
       "          19344.4385392 ],\n",
       "         ...,\n",
       "         [16408.54908227, 16451.36351296, 16590.38370911, 16475.57417744,\n",
       "          16398.42616696],\n",
       "         [16311.66432073, 16287.01827298, 16450.48021808, 16415.9206152 ,\n",
       "          16299.44087605],\n",
       "         [16270.95681677, 16244.32595739, 16403.33637062, 16396.79788357,\n",
       "          16252.78743158]],\n",
       " \n",
       "        [[32048.83541292, 31093.88831313, 31674.1090259 , 30734.26061078,\n",
       "          29726.19220699],\n",
       "         [24360.08076583, 23625.14749165, 24341.78244774, 23970.2200442 ,\n",
       "          23711.08676758],\n",
       "         [22175.508518  , 20686.47451295, 21448.25911548, 21970.15401442,\n",
       "          20987.84578695],\n",
       "         ...,\n",
       "         [16496.57261673, 16520.90338968, 16463.35873104, 16884.16354706,\n",
       "          16710.61147316],\n",
       "         [16402.83382594, 16408.69540004, 16377.34944274, 16802.30592799,\n",
       "          16673.68685248],\n",
       "         [16382.73105895, 16374.53550641, 16337.20653999, 16783.5466108 ,\n",
       "          16673.57713964]],\n",
       " \n",
       "        [[18722.94712641, 17213.90217426, 18847.21173395, 17788.90260328,\n",
       "          19662.98677036],\n",
       "         [12770.77980235, 12080.69911005, 12059.46111822, 12293.29344173,\n",
       "          13922.37505932],\n",
       "         [10966.63085158,  9892.0676446 ,  9871.59083448, 10668.29131865,\n",
       "          12542.14161737],\n",
       "         ...,\n",
       "         [ 6947.18806981,  7153.18618246,  6632.30468226,  6694.4550466 ,\n",
       "           7828.18529177],\n",
       "         [ 6975.86758482,  7119.73368717,  6669.32047576,  6752.77560701,\n",
       "           7888.49692205],\n",
       "         [ 6957.30230509,  7115.27475563,  6673.78362864,  6737.87911551,\n",
       "           7887.28394481]],\n",
       " \n",
       "        ...,\n",
       " \n",
       "        [[32004.15351859, 31085.73522416, 31719.23367253, 30980.35578765,\n",
       "          29829.88261117],\n",
       "         [24179.66756538, 23588.68319979, 24248.61216944, 24285.23357579,\n",
       "          23344.83795043],\n",
       "         [22389.57571779, 20364.08776585, 21298.4179054 , 22661.35624444,\n",
       "          20776.44337863],\n",
       "         ...,\n",
       "         [16399.79886117, 16682.86155606, 16430.325623  , 16977.18749631,\n",
       "          16546.60548851],\n",
       "         [16296.92614805, 16560.77735608, 16331.47095506, 16908.38780043,\n",
       "          16519.44824387],\n",
       "         [16271.10932924, 16517.95333545, 16291.30827992, 16894.15027625,\n",
       "          16521.41680973]],\n",
       " \n",
       "        [[18590.02165745, 17235.44142195, 18814.17965012, 17872.10795913,\n",
       "          19935.66690903],\n",
       "         [12545.50583983, 12158.38785942, 12098.32959322, 12249.16193259,\n",
       "          14111.48611477],\n",
       "         [ 9943.16093455,  9993.06403833,  9404.45346751, 10546.77686627,\n",
       "          12424.84421669],\n",
       "         ...,\n",
       "         [ 6700.69555551,  7242.90642577,  6564.40116274,  6734.45672701,\n",
       "           7858.47749108],\n",
       "         [ 6751.38631504,  7207.3236194 ,  6617.41886265,  6809.24830116,\n",
       "           7924.36850695],\n",
       "         [ 6742.00439249,  7201.00111724,  6624.13901521,  6796.06455959,\n",
       "           7931.04143302]],\n",
       " \n",
       "        [[17811.69635028, 16268.88554317, 17473.21022016, 18105.67233597,\n",
       "          19193.73570314],\n",
       "         [12147.5968244 , 11517.38271483, 11690.68796231, 12237.1067785 ,\n",
       "          13262.49541927],\n",
       "         [10910.16066836,  9478.67621929,  9623.70061864, 10866.47869636,\n",
       "          11117.81347274],\n",
       "         ...,\n",
       "         [ 6361.4771658 ,  6903.71230987,  6340.36813463,  6782.33087299,\n",
       "           7768.63764954],\n",
       "         [ 6380.81039283,  6873.57956559,  6310.55853668,  6814.11731302,\n",
       "           7842.22881964],\n",
       "         [ 6396.40918577,  6874.16028665,  6302.52214895,  6819.3908946 ,\n",
       "           7854.62620535]]]),\n",
       " 'split_params': {'n_splits': 5, 'random_state': 0, 'shuffle': True}}"
      ]
     },
     "execution_count": 13,
     "metadata": {},
     "output_type": "execute_result"
    }
   ],
   "source": [
    "info_kfoldcv"
   ]
  }
 ],
 "metadata": {
  "kernelspec": {
   "display_name": "renv",
   "language": "python",
   "name": "python3"
  },
  "language_info": {
   "codemirror_mode": {
    "name": "ipython",
    "version": 3
   },
   "file_extension": ".py",
   "mimetype": "text/x-python",
   "name": "python",
   "nbconvert_exporter": "python",
   "pygments_lexer": "ipython3",
   "version": "3.12.3"
  }
 },
 "nbformat": 4,
 "nbformat_minor": 2
}
