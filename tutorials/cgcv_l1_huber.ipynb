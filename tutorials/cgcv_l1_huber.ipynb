{
 "cells": [
  {
   "cell_type": "markdown",
   "metadata": {},
   "source": [
    "In this notebook, we illustrate how to perform correct generalized cross-validation for $l1$-regularized Huber ensembles, where each base estimator takes the form\n",
    "$$\\hat{\\theta}_m \\in \\text{argmin}_{\\theta\\in\\mathbb{R}^p} \\sum_{i \\in I_m}Huber(y_i - \\theta^{\\top}x_i;\\mu) + \\lambda \\|\\theta\\|_1$$\n",
    "where the Huber loss is defined as\n",
    "$$\n",
    "Huber(x;\\mu) = \\left\\{\\begin{array}{cc}\n",
    "\\frac{x^2}{2\\mu} & |x| <\\mu \\\\\n",
    "|x|-\\frac{\\mu}{2} & |x|>\\mu\n",
    "\\end{array}\n",
    "\\right.,\n",
    "$$\n",
    "\n"
   ]
  },
  {
   "cell_type": "markdown",
   "metadata": {},
   "source": [
    "# Define base estimator"
   ]
  },
  {
   "cell_type": "markdown",
   "metadata": {},
   "source": [
    "We begin by defining a `scikit-learn`-type base estimator of $\\ell_1$-regularized Huber."
   ]
  },
  {
   "cell_type": "code",
   "execution_count": 1,
   "metadata": {},
   "outputs": [],
   "source": [
    "import numpy as np\n",
    "import scipy as sp\n",
    "\n",
    "import sys\n",
    "sys.path.append('..')\n",
    "from sklearn_ensemble_cv import Ensemble\n",
    "from sklearn.linear_model import Lasso, QuantileRegressor\n",
    "from sklearn.base import BaseEstimator, RegressorMixin\n",
    "\n",
    "\n",
    "class HuberL1Reg(RegressorMixin, BaseEstimator):\n",
    "    '''\n",
    "    L1-regularized Huber estimator is defined as\n",
    "        argmin_beta sum_i loss(y_i - x_i^T beta; mu) + sum_j reg(beta_j)\n",
    "    where\n",
    "        loss(z; mu) = z^2/(2*mu) * 1{|z|<=mu} + (|z| - mu/2) * 1{|z|>mu}\n",
    "        reg(z) = |z|\n",
    "    '''\n",
    "    def __init__(self, lam, mu):\n",
    "        assert lam>0\n",
    "        if mu == 0:\n",
    "            self.reg = QuantileRegressor(quantile=0.5, alpha=0.5*lam, fit_intercept=False, solver='highs')\n",
    "        else:\n",
    "            assert mu>0\n",
    "            self.reg = Lasso(alpha=mu*lam, tol=1e-8, max_iter=10000, fit_intercept=False)\n",
    "        self.fit_intercept = False\n",
    "        self.lam = lam # l1-regularization parameter\n",
    "        self.mu = mu   # Huber loss parameter\n",
    "        self.is_fitted_ = False\n",
    "\n",
    "    def fit(self, X, y):\n",
    "        n, p = X.shape\n",
    "        if self.mu == 0:\n",
    "            self.coef_ = self.reg.fit(X=X, y=y).coef_\n",
    "        else:\n",
    "            X_new = np.concatenate((X, self.lam * np.eye(n)), axis=1)            \n",
    "            self.coef_ = self.reg.fit(X=X_new*np.sqrt(n), y=y*np.sqrt(n)).coef_[0:p]\n",
    "        self.is_fitted_ = True\n",
    "        return self\n",
    "\n",
    "    def predict(self, X):\n",
    "        return X @ self.coef_\n",
    "\n",
    "    def _deriv(self, r):\n",
    "        \"\"\"\n",
    "        Compute the derivative of the loss function:\n",
    "            loss'(r; mu) = r/mu * 1{|r|<=mu} + sign(r) * 1{|r|>mu}.\n",
    "\n",
    "        Parameters:\n",
    "        r : array-like, shape (n_samples,)\n",
    "            Residuals.\n",
    "        \n",
    "        Returns:\n",
    "        deriv : array, shape (n_samples,)\n",
    "            Derivative of the loss function.\n",
    "        \"\"\"\n",
    "        return np.where(np.abs(r)<self.mu, r/self.mu, np.sign(r))\n",
    "\n",
    "    def _dof(self, eps=1e-12):\n",
    "        \"\"\"\n",
    "        Compute the degrees of freedom.\n",
    "\n",
    "        Parameters:\n",
    "        eps : float, optional (default=1e-12)\n",
    "            Threshold for considering coefficients as non-zero.\n",
    "        \n",
    "        Returns:\n",
    "        dof : int\n",
    "            Degrees of freedom.\n",
    "        \"\"\"\n",
    "        return np.sum(np.abs(self.coef_)>eps)\n",
    "        \n",
    "    def get_gcv_input(self, X, y):\n",
    "        \"\"\"\n",
    "        Get inputs for Generalized Cross-Validation (GCV).\n",
    "\n",
    "        Parameters:\n",
    "        X : array-like, shape (n_samples, n_features)\n",
    "            Training data.\n",
    "        y : array-like, shape (n_samples,)\n",
    "            Target values.\n",
    "        \n",
    "        Returns:\n",
    "        r : array, shape (n_samples,)\n",
    "            Residuals.\n",
    "        loss_p : array, shape (n_samples,)\n",
    "            First derivative of the loss function.\n",
    "        dof : int\n",
    "            Degrees of freedom.\n",
    "        tr_V : float\n",
    "            Trace of the influence matrix.\n",
    "        \"\"\"\n",
    "        r = y.reshape(-1) - self.predict(X).reshape(-1)\n",
    "        loss_p = self._deriv(r)\n",
    "        loss_pp = np.abs(r)<self.mu\n",
    "        dof = self._dof()\n",
    "        tr_V = (np.sum(loss_pp) - dof)/ self.mu\n",
    "        \n",
    "        return r, loss_p, dof, tr_V\n"
   ]
  },
  {
   "cell_type": "markdown",
   "metadata": {},
   "source": [
    "Note that, we have defined an extra function `get_gcv_input` that returns the quantities needed for the GCV computation. \n",
    "Later, `sklearn_ensemble_cv` package can use this function to perform cross-validation for the $\\ell_1$-regularized Huber ensemble."
   ]
  },
  {
   "cell_type": "markdown",
   "metadata": {},
   "source": [
    "# Function for risk estimation and cross-validation"
   ]
  },
  {
   "cell_type": "markdown",
   "metadata": {},
   "source": [
    "Next, we define a function that takes in the following parameters:\n",
    "- the number of subsamples `k`, the number of samples `n`, the number of features `p`;\n",
    "- the sparsity level `s`, the degrees of freedom of t-distributed noises `dof`;\n",
    "- random seed `seed` and the number of base estimators `M`;\n",
    "\n",
    "and returns the risk of the ensemble and the GCV score."
   ]
  },
  {
   "cell_type": "code",
   "execution_count": 2,
   "metadata": {},
   "outputs": [],
   "source": [
    "def compute_risk_gcv(\n",
    "        k, n, p, \n",
    "        s, dof, \n",
    "        lam, mu, seed, M=50):\n",
    "    rng = np.random.default_rng(seed)\n",
    "    X = rng.normal(loc=0, scale=1/np.sqrt(p), size=(n, p))\n",
    "    theta = np.hstack([np.zeros(int(p*s)), np.ones(p-int(p*s))]) * rng.normal(loc=0, scale=1, size=p)\n",
    "    z = rng.standard_t(df=dof, size=n)\n",
    "    y = X @ theta + z\n",
    "\n",
    "    X_test = rng.normal(loc=0, scale=1/np.sqrt(p), size=(n, p))\n",
    "    y_test = X_test @ theta\n",
    "    \n",
    "    kwargs_regr = {'lam': lam, 'mu': mu}\n",
    "    kwargs_ensemble = {'max_samples':int(k), 'bootstrap': False, 'n_jobs':-1}\n",
    "    regr = Ensemble(estimator=HuberL1Reg(**kwargs_regr), n_estimators=M, **kwargs_ensemble)\n",
    "    regr.fit(X, y)\n",
    "    risk_gcv = regr.compute_cgcv_estimate(X, y)\n",
    "    noise = np.mean(z**2) # subtract noises to get excess risk\n",
    "    res_gcv = np.r_[[p/n, p/k, seed], risk_gcv - noise]\n",
    "    \n",
    "    risks = regr.compute_risk(X_test, y_test)\n",
    "    res_est = np.r_[[p/n, p/k, seed], risks]\n",
    "    return res_gcv, res_est"
   ]
  },
  {
   "cell_type": "markdown",
   "metadata": {},
   "source": [
    "# Simualtion"
   ]
  },
  {
   "cell_type": "code",
   "execution_count": 3,
   "metadata": {},
   "outputs": [
    {
     "name": "stdout",
     "output_type": "stream",
     "text": [
      "about to start parallel jobs: 180\n"
     ]
    },
    {
     "name": "stderr",
     "output_type": "stream",
     "text": [
      "[Parallel(n_jobs=5)]: Using backend LokyBackend with 5 concurrent workers.\n",
      "[Parallel(n_jobs=5)]: Done  40 tasks      | elapsed:   23.3s\n",
      "[Parallel(n_jobs=5)]: Done 180 out of 180 | elapsed:  8.3min finished\n"
     ]
    }
   ],
   "source": [
    "import os\n",
    "import numpy as np\n",
    "import seaborn as sns\n",
    "from joblib import Parallel, delayed\n",
    "import matplotlib.pyplot as plt\n",
    "import pandas as pd\n",
    "sns.set()\n",
    "\n",
    "\n",
    "s = 0.1 # sparsity of signal\n",
    "lam = 0.5\n",
    "mu = 1\n",
    "dist = 't-5'; dof = 5\n",
    "\n",
    "delta = 10;phi=1/delta\n",
    "cs = np.sort(np.unique((\n",
    "    1/delta / np.round(np.logspace(-1, 1, 10), 2))))\n",
    "cs = cs[1/(delta*cs)<=6.]\n",
    "p = 500\n",
    "n = int(delta*p)\n",
    "\n",
    "params = [{'k': k, 'n':n, 'p':p, 's':s,'dof':dof, 'lam':lam, 'mu':mu, 'seed': seed}\n",
    "          for k in (cs*n).astype(int) for seed in range(20)\n",
    "        ]\n",
    "        \n",
    "print('about to start parallel jobs:', len(params))\n",
    "res = Parallel(n_jobs=5, verbose=1)(\n",
    "        delayed(compute_risk_gcv)(**d) for d in params)\n",
    "\n",
    "res_gcv, res_est = list(zip(*res))\n",
    "res_gcv = pd.DataFrame(res_gcv, columns=['pho', 'psi', 'seed'] + ['R-{}'.format(M) for M in range(1,51)])\n",
    "res_est = pd.DataFrame(res_est, columns=['pho', 'psi', 'seed'] + ['R-{}'.format(M) for M in range(1,51)])\n"
   ]
  },
  {
   "cell_type": "code",
   "execution_count": 4,
   "metadata": {},
   "outputs": [],
   "source": [
    "res_gcv = pd.wide_to_long(res_gcv,  stubnames='R', i=['psi', 'seed'], j='M', sep='-', suffix=r'.*').reset_index()\n",
    "res_est = pd.wide_to_long(res_est,  stubnames='R', i=['psi', 'seed'], j='M', sep='-', suffix=r'.*').reset_index()\n",
    "res_est['type'] = 'est'\n",
    "res_gcv['type'] = 'gcv'\n",
    "res = pd.concat([res_gcv, res_est], axis=0).reset_index()"
   ]
  },
  {
   "cell_type": "code",
   "execution_count": 5,
   "metadata": {},
   "outputs": [
    {
     "data": {
      "text/plain": [
       "Text(0, 0.5, 'Excess prediction risk')"
      ]
     },
     "execution_count": 5,
     "metadata": {},
     "output_type": "execute_result"
    },
    {
     "data": {
      "image/png": "[encoded data removed]",
      "text/plain": [
       "<Figure size 600x400 with 1 Axes>"
      ]
     },
     "metadata": {},
     "output_type": "display_data"
    }
   ],
   "source": [
    "fig, ax = plt.subplots(1, 1, figsize=(6, 4))\n",
    "sns.lineplot(res[res['M'].isin([1,2,5,50])], x='psi', y='R', hue='M', style='type', alpha=0.5, errorbar=None, ax=ax)\n",
    "ax.set_xscale('log')\n",
    "ax.set_xlabel('Subsample aspect ratio $p/k$')\n",
    "ax.set_ylabel('Excess prediction risk')"
   ]
  }
 ],
 "metadata": {
  "kernelspec": {
   "display_name": "base",
   "language": "python",
   "name": "python3"
  },
  "language_info": {
   "codemirror_mode": {
    "name": "ipython",
    "version": 3
   },
   "file_extension": ".py",
   "mimetype": "text/x-python",
   "name": "python",
   "nbconvert_exporter": "python",
   "pygments_lexer": "ipython3",
   "version": "3.10.12"
  }
 },
 "nbformat": 4,
 "nbformat_minor": 2
}
