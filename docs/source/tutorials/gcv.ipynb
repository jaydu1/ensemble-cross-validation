{
 "cells": [
  {
   "cell_type": "markdown",
   "metadata": {},
   "source": [
    "# Generalized Cross-Validation for Non-Ensemble Models"
   ]
  },
  {
   "cell_type": "code",
   "execution_count": 1,
   "metadata": {},
   "outputs": [],
   "source": [
    "import sys\n",
    "sys.path.append('..')\n",
    "\n",
    "import os\n",
    "n_cores = int(8)\n",
    "os.environ[\"OMP_NUM_THREADS\"] = f\"{n_cores}\"\n",
    "os.environ[\"OPENBLAS_NUM_THREADS\"] = f\"{n_cores}\"\n",
    "os.environ[\"MKL_NUM_THREADS\"] = f\"{n_cores}\"\n",
    "os.environ[\"VECLIB_MAXIMUM_THREADS\"] = f\"{n_cores}\"\n",
    "os.environ[\"NUMEXPR_NUM_THREADS\"] = f\"{n_cores}\"\n",
    "os.environ[\"NUMBA_CACHE_DIR\"]='/tmp/numba_cache'\n",
    "\n",
    "import numpy as np\n",
    "from sklearn_ensemble_cv import reset_random_seeds\n",
    "import matplotlib.pyplot as plt\n",
    "\n",
    "reset_random_seeds(0)"
   ]
  },
  {
   "cell_type": "markdown",
   "metadata": {},
   "source": [
    "## GCV for risk estimation"
   ]
  },
  {
   "cell_type": "code",
   "execution_count": 2,
   "metadata": {},
   "outputs": [],
   "source": [
    "from sklearn.linear_model import Ridge, Lasso, ElasticNet\n",
    "from sklearn_ensemble_cv import generate_data, Ensemble\n",
    "\n",
    "reset_random_seeds(0)\n",
    "n_samples, n_features = 1000, 800\n",
    "Sigma, beta0, X_train, y_train, X_test, y_test, _, _ = generate_data(\n",
    "    n_samples, n_features, coef='random', func='quad', sigma_quad=.1,\n",
    "    rho_ar1=0., sigma=.5, df=np.inf, n_test=1000, \n",
    ")\n",
    "\n",
    "kwargs_regr = {'alpha': 0.01*X_train.shape[0], 'fit_intercept':False}\n",
    "kwargs_ensemble = {'max_samples': 0.5, 'bootstrap':False}\n",
    "regr = Ensemble(estimator=Ridge(**kwargs_regr), n_estimators=1, **kwargs_ensemble)\n",
    "regr = regr.fit(X_train, y_train)"
   ]
  },
  {
   "cell_type": "code",
   "execution_count": 3,
   "metadata": {},
   "outputs": [
    {
     "data": {
      "text/html": [
       "<div>\n",
       "<style scoped>\n",
       "    .dataframe tbody tr th:only-of-type {\n",
       "        vertical-align: middle;\n",
       "    }\n",
       "\n",
       "    .dataframe tbody tr th {\n",
       "        vertical-align: top;\n",
       "    }\n",
       "\n",
       "    .dataframe thead th {\n",
       "        text-align: right;\n",
       "    }\n",
       "</style>\n",
       "<table border=\"1\" class=\"dataframe\">\n",
       "  <thead>\n",
       "    <tr style=\"text-align: right;\">\n",
       "      <th></th>\n",
       "      <th>M</th>\n",
       "      <th>estimate</th>\n",
       "      <th>err_train</th>\n",
       "      <th>deno</th>\n",
       "    </tr>\n",
       "  </thead>\n",
       "  <tbody>\n",
       "    <tr>\n",
       "      <th>0</th>\n",
       "      <td>1</td>\n",
       "      <td>0.986995</td>\n",
       "      <td>0.000927</td>\n",
       "      <td>0.00094</td>\n",
       "    </tr>\n",
       "  </tbody>\n",
       "</table>\n",
       "</div>"
      ],
      "text/plain": [
       "   M  estimate  err_train     deno\n",
       "0  1  0.986995   0.000927  0.00094"
      ]
     },
     "execution_count": 3,
     "metadata": {},
     "output_type": "execute_result"
    }
   ],
   "source": [
    "df_gcv = regr.compute_gcv_estimate(X_train, y_train, M0=1, type='union', return_df=True)\n",
    "df_gcv"
   ]
  },
  {
   "cell_type": "code",
   "execution_count": 4,
   "metadata": {},
   "outputs": [
    {
     "data": {
      "text/html": [
       "<div>\n",
       "<style scoped>\n",
       "    .dataframe tbody tr th:only-of-type {\n",
       "        vertical-align: middle;\n",
       "    }\n",
       "\n",
       "    .dataframe tbody tr th {\n",
       "        vertical-align: top;\n",
       "    }\n",
       "\n",
       "    .dataframe thead th {\n",
       "        text-align: right;\n",
       "    }\n",
       "</style>\n",
       "<table border=\"1\" class=\"dataframe\">\n",
       "  <thead>\n",
       "    <tr style=\"text-align: right;\">\n",
       "      <th></th>\n",
       "      <th>M</th>\n",
       "      <th>risk</th>\n",
       "    </tr>\n",
       "  </thead>\n",
       "  <tbody>\n",
       "    <tr>\n",
       "      <th>0</th>\n",
       "      <td>1</td>\n",
       "      <td>1.015682</td>\n",
       "    </tr>\n",
       "  </tbody>\n",
       "</table>\n",
       "</div>"
      ],
      "text/plain": [
       "   M      risk\n",
       "0  1  1.015682"
      ]
     },
     "execution_count": 4,
     "metadata": {},
     "output_type": "execute_result"
    }
   ],
   "source": [
    "df_risk = regr.compute_risk(X_test, y_test, return_df=True)\n",
    "df_risk"
   ]
  },
  {
   "cell_type": "markdown",
   "metadata": {},
   "source": [
    "## GCV for tuning regularization parameters\n"
   ]
  },
  {
   "cell_type": "code",
   "execution_count": 5,
   "metadata": {},
   "outputs": [],
   "source": [
    "from sklearn_ensemble_cv import GCV\n",
    "\n",
    "grid_regr = {'alpha': np.logspace(-3, 0, 10)*X_train.shape[0]}\n",
    "grid_ensemble = {'max_samples': 1., 'bootstrap':False}\n",
    "\n",
    "res_gcv, info_gcv = GCV(\n",
    "        X_train, y_train, Ridge, grid_regr, grid_ensemble,\n",
    "        M=1, M0=1, corrected=True, type='full', return_df=True, X_test=X_test, Y_test=y_test,\n",
    "        )"
   ]
  },
  {
   "cell_type": "code",
   "execution_count": 6,
   "metadata": {},
   "outputs": [
    {
     "data": {
      "text/html": [
       "<div>\n",
       "<style scoped>\n",
       "    .dataframe tbody tr th:only-of-type {\n",
       "        vertical-align: middle;\n",
       "    }\n",
       "\n",
       "    .dataframe tbody tr th {\n",
       "        vertical-align: top;\n",
       "    }\n",
       "\n",
       "    .dataframe thead th {\n",
       "        text-align: right;\n",
       "    }\n",
       "</style>\n",
       "<table border=\"1\" class=\"dataframe\">\n",
       "  <thead>\n",
       "    <tr style=\"text-align: right;\">\n",
       "      <th></th>\n",
       "      <th>alpha</th>\n",
       "      <th>risk_val-1</th>\n",
       "      <th>risk_val-inf</th>\n",
       "      <th>risk_test-1</th>\n",
       "    </tr>\n",
       "  </thead>\n",
       "  <tbody>\n",
       "    <tr>\n",
       "      <th>0</th>\n",
       "      <td>1.000000</td>\n",
       "      <td>1.281178</td>\n",
       "      <td>NaN</td>\n",
       "      <td>1.228796</td>\n",
       "    </tr>\n",
       "    <tr>\n",
       "      <th>1</th>\n",
       "      <td>2.154435</td>\n",
       "      <td>1.231096</td>\n",
       "      <td>NaN</td>\n",
       "      <td>1.167976</td>\n",
       "    </tr>\n",
       "    <tr>\n",
       "      <th>2</th>\n",
       "      <td>4.641589</td>\n",
       "      <td>1.144019</td>\n",
       "      <td>NaN</td>\n",
       "      <td>1.066096</td>\n",
       "    </tr>\n",
       "    <tr>\n",
       "      <th>3</th>\n",
       "      <td>10.000000</td>\n",
       "      <td>1.015488</td>\n",
       "      <td>NaN</td>\n",
       "      <td>0.923820</td>\n",
       "    </tr>\n",
       "    <tr>\n",
       "      <th>4</th>\n",
       "      <td>21.544347</td>\n",
       "      <td>0.863445</td>\n",
       "      <td>NaN</td>\n",
       "      <td>0.767550</td>\n",
       "    </tr>\n",
       "    <tr>\n",
       "      <th>5</th>\n",
       "      <td>46.415888</td>\n",
       "      <td>0.723675</td>\n",
       "      <td>NaN</td>\n",
       "      <td>0.639160</td>\n",
       "    </tr>\n",
       "    <tr>\n",
       "      <th>6</th>\n",
       "      <td>100.000000</td>\n",
       "      <td>0.627298</td>\n",
       "      <td>NaN</td>\n",
       "      <td>0.568579</td>\n",
       "    </tr>\n",
       "    <tr>\n",
       "      <th>7</th>\n",
       "      <td>215.443469</td>\n",
       "      <td>0.592169</td>\n",
       "      <td>NaN</td>\n",
       "      <td>0.563968</td>\n",
       "    </tr>\n",
       "    <tr>\n",
       "      <th>8</th>\n",
       "      <td>464.158883</td>\n",
       "      <td>0.625508</td>\n",
       "      <td>NaN</td>\n",
       "      <td>0.623591</td>\n",
       "    </tr>\n",
       "    <tr>\n",
       "      <th>9</th>\n",
       "      <td>1000.000000</td>\n",
       "      <td>0.721912</td>\n",
       "      <td>NaN</td>\n",
       "      <td>0.740226</td>\n",
       "    </tr>\n",
       "  </tbody>\n",
       "</table>\n",
       "</div>"
      ],
      "text/plain": [
       "         alpha  risk_val-1  risk_val-inf  risk_test-1\n",
       "0     1.000000    1.281178           NaN     1.228796\n",
       "1     2.154435    1.231096           NaN     1.167976\n",
       "2     4.641589    1.144019           NaN     1.066096\n",
       "3    10.000000    1.015488           NaN     0.923820\n",
       "4    21.544347    0.863445           NaN     0.767550\n",
       "5    46.415888    0.723675           NaN     0.639160\n",
       "6   100.000000    0.627298           NaN     0.568579\n",
       "7   215.443469    0.592169           NaN     0.563968\n",
       "8   464.158883    0.625508           NaN     0.623591\n",
       "9  1000.000000    0.721912           NaN     0.740226"
      ]
     },
     "execution_count": 6,
     "metadata": {},
     "output_type": "execute_result"
    }
   ],
   "source": [
    "res_gcv"
   ]
  },
  {
   "cell_type": "code",
   "execution_count": 7,
   "metadata": {},
   "outputs": [
    {
     "data": {
      "text/plain": [
       "{'best_params_regr': {'alpha': np.float64(215.44346900318823)},\n",
       " 'best_params_ensemble': {'random_state': 0,\n",
       "  'max_samples': 1.0,\n",
       "  'bootstrap': False,\n",
       "  'n_estimators': 1},\n",
       " 'best_n_estimators': np.int64(1),\n",
       " 'best_params_index': np.int64(7),\n",
       " 'best_score': np.float64(0.5921689022419518)}"
      ]
     },
     "execution_count": 7,
     "metadata": {},
     "output_type": "execute_result"
    }
   ],
   "source": [
    "info_gcv"
   ]
  },
  {
   "cell_type": "code",
   "execution_count": 8,
   "metadata": {},
   "outputs": [
    {
     "data": {
      "text/plain": [
       "np.float64(0.5639675571939373)"
      ]
     },
     "execution_count": 8,
     "metadata": {},
     "output_type": "execute_result"
    }
   ],
   "source": [
    "res_gcv.iloc[info_gcv['best_params_index']]['risk_test-{}'.format(info_gcv['best_n_estimators'])]"
   ]
  },
  {
   "cell_type": "code",
   "execution_count": 9,
   "metadata": {},
   "outputs": [
    {
     "data": {
      "image/png": "[encoded data removed]",
      "text/plain": [
       "<Figure size 640x480 with 1 Axes>"
      ]
     },
     "metadata": {},
     "output_type": "display_data"
    }
   ],
   "source": [
    "plt.plot(res_gcv['alpha'], res_gcv['risk_val-1'], label='GCV estimate')\n",
    "plt.plot(res_gcv['alpha'], res_gcv['risk_test-1'], label='risk')\n",
    "plt.xscale('log')\n",
    "plt.xlabel(r'Ridge penalty $\\alpha$')\n",
    "plt.ylabel('Value')\n",
    "plt.legend()\n",
    "plt.show()"
   ]
  },
  {
   "cell_type": "code",
   "execution_count": null,
   "metadata": {},
   "outputs": [],
   "source": []
  }
 ],
 "metadata": {
  "kernelspec": {
   "display_name": "causarray",
   "language": "python",
   "name": "python3"
  },
  "language_info": {
   "codemirror_mode": {
    "name": "ipython",
    "version": 3
   },
   "file_extension": ".py",
   "mimetype": "text/x-python",
   "name": "python",
   "nbconvert_exporter": "python",
   "pygments_lexer": "ipython3",
   "version": "3.12.8"
  }
 },
 "nbformat": 4,
 "nbformat_minor": 2
}
